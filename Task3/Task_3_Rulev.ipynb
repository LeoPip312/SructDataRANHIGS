{
 "cells": [
  {
   "cell_type": "markdown",
   "id": "dc868726",
   "metadata": {},
   "source": [
    "<b> Федеральное государственное бюджетное образовательное учреждение высшего образования <br>\n",
    "    «РОССИЙСКАЯ АКАДЕМИЯ НАРОДНОГО ХОЗЯЙСТВА И ГОСУДАРСТВЕННОЙ СЛУЖБЫ ПРИ ПРЕЗИДЕНТЕ РОССИЙСКОЙ ФЕДЕРАЦИИ»</b>\n",
    "\n",
    "<b> НИЖЕГОРОДСКИЙ ИНСТИТУТ УПРАВЛЕНИЯ – филиал РАНХиГС </b>\n",
    "\n",
    "Факультет управления<br>\n",
    "Кафедра Информатики и информационных технологий<br>\n",
    "Направление подготовки / специальность: 09.04.03 Прикладная информатика<br>\n",
    "Направленность (профиль) / специализация: Корпоративные информационные системы управления.<br>\n",
    "\n",
    "<b>Отчет по лабораторным работам</b>\n",
    "\n",
    "по дисциплине:    Структуры данных и их использование в программировани\n",
    "\t\n",
    "<b>АВТОР</b><br>\n",
    "Обучающийся(иеся) 2 курса группы ИК-722<br>\n",
    "заочной формы обучения<br>\n",
    "<b>Рулёв Владислав Дмитриевич</b><br>\n",
    "\n",
    "\n",
    "\n",
    "<b>РУКОВОДИТЕЛЬ</b> <br>\n",
    "Кандидат физико-математических наук<br>\n",
    "(ученая степень, ученое звание)<br>\n",
    "оценка ______ <br>\n",
    "«_____» __________________ 2024 г.<br>\n",
    "(дата защиты)<br>\n",
    "____________                          Орлов М.Л.<br>\n",
    "(подпись)                                       (фамилия, инициалы)\n",
    "\n",
    "\n",
    "\n",
    "Нижний Новгород, 2024г. \n"
   ]
  },
  {
   "cell_type": "markdown",
   "id": "82cf6ddd",
   "metadata": {},
   "source": [
    "## Задание 1:\n",
    "### Написать единую программу на языке высокого уровня (С++, C#, Java), реализующую сортировку массива, заполненного случайными числами в диапазоне от 0 до 100, различными методами. Провести сравнительный анализ временной эффективности реализованных методов. \n",
    "### Должны быть реализованы следующие методы сортировки:\n",
    "<ul>\n",
    "<li>Сортировка методом прямого обмена (сортировка методом пузырька).</li>\n",
    "<li>Сортировка методом прямого включения.</li> \n",
    "<li>Сортировка методом прямого выбора.</li> \n",
    "<li>Шейкерная сортировка.</li> \n",
    "<li>Сортировка методом Шелла.</li> \n",
    "<li>Сортировка методом Хоара.</li>\n",
    "</ul>"
   ]
  },
  {
   "cell_type": "code",
   "execution_count": 1,
   "id": "c12e2d61",
   "metadata": {},
   "outputs": [],
   "source": [
    "from random import randint"
   ]
  },
  {
   "cell_type": "markdown",
   "id": "22cb740b",
   "metadata": {},
   "source": [
    "### Сортировка пузыркьками\n",
    "\n",
    "O(n²), где n — количество элементов списка."
   ]
  },
  {
   "cell_type": "code",
   "execution_count": 13,
   "id": "f4b6eec6",
   "metadata": {},
   "outputs": [],
   "source": [
    "def bubbles(numbers):      \n",
    "\n",
    "    for i in range(len(numbers) - 1):\n",
    "        for j in range(len(numbers) - i - 1):\n",
    "            if numbers[j] > numbers[j + 1]:\n",
    "\n",
    "                temp = numbers[j] \n",
    "                numbers[j] = numbers[j + 1]\n",
    "                numbers[j + 1] = temp\n",
    "\n",
    "    return numbers"
   ]
  },
  {
   "cell_type": "markdown",
   "id": "04a6f058",
   "metadata": {},
   "source": [
    "##### Сортировка методом прямого включения\n",
    "\n",
    "O(n²), где n — количество элементов списка."
   ]
  },
  {
   "cell_type": "code",
   "execution_count": 19,
   "id": "963c1371",
   "metadata": {},
   "outputs": [],
   "source": [
    "def direct_activation(numbers):      \n",
    "    for i in range(1, len(numbers)): \n",
    "        value = numbers[i] \n",
    "        j = i - 1 \n",
    "        while j >= 0 and value < numbers[j]: \n",
    "            numbers[j + 1] = numbers[j] \n",
    "            j -= 1 \n",
    "        numbers[j + 1] = value \n",
    "    return numbers "
   ]
  },
  {
   "cell_type": "markdown",
   "id": "e03cb5c1",
   "metadata": {},
   "source": [
    "##### Сортировка методом прямого выбора\n",
    "\n",
    "O(n²), где n — количество элементов списка."
   ]
  },
  {
   "cell_type": "code",
   "execution_count": 33,
   "id": "867a20f4",
   "metadata": {},
   "outputs": [],
   "source": [
    "def direct_selection(numbers):\n",
    "    for i in range(len(numbers)):\n",
    "        min_idx = i\n",
    "        for j in range(i + 1, len(numbers)):\n",
    "            if numbers[j] < numbers[min_idx]:\n",
    "                min_idx = j\n",
    "        temp = numbers[i]\n",
    "        numbers[i] = numbers[min_idx]\n",
    "        numbers[min_idx] = temp\n",
    "    return numbers"
   ]
  },
  {
   "cell_type": "markdown",
   "id": "d746c218",
   "metadata": {},
   "source": [
    "##### Шейкерная сортировка\n",
    "\n",
    "O(n²), где n — количество элементов списка."
   ]
  },
  {
   "cell_type": "code",
   "execution_count": 34,
   "id": "326da4bb",
   "metadata": {},
   "outputs": [],
   "source": [
    "def shaiker(numbers):\n",
    "    \n",
    "    left_index = 1\n",
    "    right_index = len(numbers)\n",
    "    \n",
    "    while left_index < right_index:\n",
    "        for i in range(left_index, right_index):\n",
    "            \n",
    "            if numbers[i] < numbers[i-1]:\n",
    "                temp = numbers[i] \n",
    "                numbers[i] = numbers[i-1]\n",
    "                numbers[i-1] = temp\n",
    "                \n",
    "            if numbers[right_index - i] < numbers[right_index - i -1]:\n",
    "                temp = numbers[right_index - i]\n",
    "                numbers[right_index - i] = numbers[right_index - i -1]\n",
    "                numbers[right_index - i - 1] = temp\n",
    "        \n",
    "        left_index += 1\n",
    "        right_index -= 1\n",
    "\n",
    "    return numbers"
   ]
  },
  {
   "cell_type": "markdown",
   "id": "65e02cb8",
   "metadata": {},
   "source": [
    "##### Сортировка Шелла\n",
    "\n",
    "O(n²), где n — количество элементов списка."
   ]
  },
  {
   "cell_type": "code",
   "execution_count": 23,
   "id": "d7946780",
   "metadata": {},
   "outputs": [],
   "source": [
    "def shell(numbers):\n",
    "    step = len(numbers) // 2\n",
    "    \n",
    "    while step > 0:\n",
    "        for i in range(step, len(numbers)):\n",
    "            value = numbers[i]\n",
    "            j = i\n",
    "            while j >= step and numbers[j - step] > value:\n",
    "                numbers[j] = numbers[j - step]\n",
    "                j -= step\n",
    "            numbers[jdx] = value\n",
    "        step //= 2\n",
    "    \n",
    "    return numbers"
   ]
  },
  {
   "cell_type": "markdown",
   "id": "ca6b5b5e",
   "metadata": {},
   "source": [
    "##### Сортировка Хоара\n",
    "\n",
    "O(n²), где n — количество элементов списка."
   ]
  },
  {
   "cell_type": "code",
   "execution_count": 22,
   "id": "aa84d908",
   "metadata": {},
   "outputs": [],
   "source": [
    "from random import choice\n",
    "\n",
    "def hoar(numbers):\n",
    "    if len(numbers) <= 1:\n",
    "        return numbers\n",
    "    else:\n",
    "        q = choice(numbers)\n",
    "        s_nums = []\n",
    "        m_nums = []\n",
    "        e_nums = []\n",
    "        for number in numbers:\n",
    "            if number < q:\n",
    "                s_nums.append(number)\n",
    "            elif number > q:\n",
    "                m_nums.append(number)\n",
    "            else:\n",
    "                e_nums.append(number)\n",
    "    return hoar(s_nums) + e_nums + hoar(m_nums)"
   ]
  },
  {
   "cell_type": "code",
   "execution_count": 25,
   "id": "fb39c18a",
   "metadata": {
    "collapsed": true
   },
   "outputs": [
    {
     "name": "stdout",
     "output_type": "stream",
     "text": [
      "Collecting tqdm\n",
      "  Downloading tqdm-4.66.2-py3-none-any.whl (78 kB)\n",
      "     ---------------------------------------- 0.0/78.3 kB ? eta -:--:--\n",
      "     --------------- ------------------------ 30.7/78.3 kB ? eta -:--:--\n",
      "     ------------------- ------------------ 41.0/78.3 kB 653.6 kB/s eta 0:00:01\n",
      "     ------------------- ------------------ 41.0/78.3 kB 653.6 kB/s eta 0:00:01\n",
      "     ------------------- ------------------ 41.0/78.3 kB 653.6 kB/s eta 0:00:01\n",
      "     -------------------------------------- 78.3/78.3 kB 333.6 kB/s eta 0:00:00\n",
      "Requirement already satisfied: colorama in c:\\users\\aaa\\anaconda3\\envs\\python\\lib\\site-packages (from tqdm) (0.4.6)\n",
      "Installing collected packages: tqdm\n",
      "Successfully installed tqdm-4.66.2\n"
     ]
    }
   ],
   "source": [
    "!pip install tqdm"
   ]
  },
  {
   "cell_type": "code",
   "execution_count": 26,
   "id": "3dc07bca",
   "metadata": {},
   "outputs": [],
   "source": [
    "import pandas as pd\n",
    "from time import time\n",
    "from tqdm import tqdm\n",
    "import matplotlib.pyplot as plt\n",
    "\n",
    "# Список функий\n",
    "list_sort = [bubbles, direct_activation, direct_selection, shaiker, shell, hoar]\n",
    "\n",
    "# Список количества элементов \n",
    "sizes = [100, 1000, 5000]\n",
    "\n",
    "# создаем датафрейм\n",
    "stat_df = pd.DataFrame(columns=['count_elements', 'name_sort_func', 'time'])"
   ]
  },
  {
   "cell_type": "code",
   "execution_count": 27,
   "id": "11349a80",
   "metadata": {},
   "outputs": [
    {
     "name": "stderr",
     "output_type": "stream",
     "text": [
      "100%|████████████████████████████████████████████████████████████████████████████████████| 3/3 [00:09<00:00,  3.30s/it]\n"
     ]
    }
   ],
   "source": [
    "for size in tqdm(sizes):\n",
    "    list_numbers = [randint(0, 100) for i in range(size)]\n",
    "    for func in list_sort:\n",
    "        name_func = str(func).split()[1]\n",
    "        time_st = time()\n",
    "        rez = func(list_numbers)\n",
    "        dif_time = time() - time_st\n",
    "        \n",
    "        stat_df.loc[len(stat_df.index)] = [size, name_func, dif_time]"
   ]
  },
  {
   "cell_type": "code",
   "execution_count": 31,
   "id": "63f5029c",
   "metadata": {},
   "outputs": [
    {
     "data": {
      "text/html": [
       "<div>\n",
       "<style scoped>\n",
       "    .dataframe tbody tr th:only-of-type {\n",
       "        vertical-align: middle;\n",
       "    }\n",
       "\n",
       "    .dataframe tbody tr th {\n",
       "        vertical-align: top;\n",
       "    }\n",
       "\n",
       "    .dataframe thead th {\n",
       "        text-align: right;\n",
       "    }\n",
       "</style>\n",
       "<table border=\"1\" class=\"dataframe\">\n",
       "  <thead>\n",
       "    <tr style=\"text-align: right;\">\n",
       "      <th></th>\n",
       "      <th>count_elements</th>\n",
       "      <th>name_sort_func</th>\n",
       "      <th>time</th>\n",
       "    </tr>\n",
       "  </thead>\n",
       "  <tbody>\n",
       "    <tr>\n",
       "      <th>0</th>\n",
       "      <td>100</td>\n",
       "      <td>bubbles</td>\n",
       "      <td>0.003997</td>\n",
       "    </tr>\n",
       "    <tr>\n",
       "      <th>1</th>\n",
       "      <td>100</td>\n",
       "      <td>direct_activation</td>\n",
       "      <td>0.000000</td>\n",
       "    </tr>\n",
       "    <tr>\n",
       "      <th>2</th>\n",
       "      <td>100</td>\n",
       "      <td>direct_selection</td>\n",
       "      <td>0.000000</td>\n",
       "    </tr>\n",
       "    <tr>\n",
       "      <th>3</th>\n",
       "      <td>100</td>\n",
       "      <td>shaiker</td>\n",
       "      <td>0.000000</td>\n",
       "    </tr>\n",
       "    <tr>\n",
       "      <th>4</th>\n",
       "      <td>100</td>\n",
       "      <td>shell</td>\n",
       "      <td>0.000000</td>\n",
       "    </tr>\n",
       "    <tr>\n",
       "      <th>5</th>\n",
       "      <td>100</td>\n",
       "      <td>hoar</td>\n",
       "      <td>0.000000</td>\n",
       "    </tr>\n",
       "    <tr>\n",
       "      <th>6</th>\n",
       "      <td>1000</td>\n",
       "      <td>bubbles</td>\n",
       "      <td>0.169260</td>\n",
       "    </tr>\n",
       "    <tr>\n",
       "      <th>7</th>\n",
       "      <td>1000</td>\n",
       "      <td>direct_activation</td>\n",
       "      <td>0.000000</td>\n",
       "    </tr>\n",
       "    <tr>\n",
       "      <th>8</th>\n",
       "      <td>1000</td>\n",
       "      <td>direct_selection</td>\n",
       "      <td>0.096306</td>\n",
       "    </tr>\n",
       "    <tr>\n",
       "      <th>9</th>\n",
       "      <td>1000</td>\n",
       "      <td>shaiker</td>\n",
       "      <td>0.120024</td>\n",
       "    </tr>\n",
       "    <tr>\n",
       "      <th>10</th>\n",
       "      <td>1000</td>\n",
       "      <td>shell</td>\n",
       "      <td>0.000000</td>\n",
       "    </tr>\n",
       "    <tr>\n",
       "      <th>11</th>\n",
       "      <td>1000</td>\n",
       "      <td>hoar</td>\n",
       "      <td>0.000000</td>\n",
       "    </tr>\n",
       "    <tr>\n",
       "      <th>12</th>\n",
       "      <td>5000</td>\n",
       "      <td>bubbles</td>\n",
       "      <td>4.374749</td>\n",
       "    </tr>\n",
       "    <tr>\n",
       "      <th>13</th>\n",
       "      <td>5000</td>\n",
       "      <td>direct_activation</td>\n",
       "      <td>0.003997</td>\n",
       "    </tr>\n",
       "    <tr>\n",
       "      <th>14</th>\n",
       "      <td>5000</td>\n",
       "      <td>direct_selection</td>\n",
       "      <td>1.977189</td>\n",
       "    </tr>\n",
       "    <tr>\n",
       "      <th>15</th>\n",
       "      <td>5000</td>\n",
       "      <td>shaiker</td>\n",
       "      <td>3.057168</td>\n",
       "    </tr>\n",
       "    <tr>\n",
       "      <th>16</th>\n",
       "      <td>5000</td>\n",
       "      <td>shell</td>\n",
       "      <td>0.015627</td>\n",
       "    </tr>\n",
       "    <tr>\n",
       "      <th>17</th>\n",
       "      <td>5000</td>\n",
       "      <td>hoar</td>\n",
       "      <td>0.008001</td>\n",
       "    </tr>\n",
       "  </tbody>\n",
       "</table>\n",
       "</div>"
      ],
      "text/plain": [
       "    count_elements     name_sort_func      time\n",
       "0              100            bubbles  0.003997\n",
       "1              100  direct_activation  0.000000\n",
       "2              100   direct_selection  0.000000\n",
       "3              100            shaiker  0.000000\n",
       "4              100              shell  0.000000\n",
       "5              100               hoar  0.000000\n",
       "6             1000            bubbles  0.169260\n",
       "7             1000  direct_activation  0.000000\n",
       "8             1000   direct_selection  0.096306\n",
       "9             1000            shaiker  0.120024\n",
       "10            1000              shell  0.000000\n",
       "11            1000               hoar  0.000000\n",
       "12            5000            bubbles  4.374749\n",
       "13            5000  direct_activation  0.003997\n",
       "14            5000   direct_selection  1.977189\n",
       "15            5000            shaiker  3.057168\n",
       "16            5000              shell  0.015627\n",
       "17            5000               hoar  0.008001"
      ]
     },
     "execution_count": 31,
     "metadata": {},
     "output_type": "execute_result"
    }
   ],
   "source": [
    "stat_df"
   ]
  },
  {
   "cell_type": "code",
   "execution_count": 30,
   "id": "99610f31",
   "metadata": {},
   "outputs": [
    {
     "data": {
      "text/html": [
       "<div>\n",
       "<style scoped>\n",
       "    .dataframe tbody tr th:only-of-type {\n",
       "        vertical-align: middle;\n",
       "    }\n",
       "\n",
       "    .dataframe tbody tr th {\n",
       "        vertical-align: top;\n",
       "    }\n",
       "\n",
       "    .dataframe thead th {\n",
       "        text-align: right;\n",
       "    }\n",
       "</style>\n",
       "<table border=\"1\" class=\"dataframe\">\n",
       "  <thead>\n",
       "    <tr style=\"text-align: right;\">\n",
       "      <th></th>\n",
       "      <th>name_sort_func</th>\n",
       "      <th>time</th>\n",
       "    </tr>\n",
       "  </thead>\n",
       "  <tbody>\n",
       "    <tr>\n",
       "      <th>0</th>\n",
       "      <td>bubbles</td>\n",
       "      <td>1.516002</td>\n",
       "    </tr>\n",
       "    <tr>\n",
       "      <th>4</th>\n",
       "      <td>shaiker</td>\n",
       "      <td>1.059064</td>\n",
       "    </tr>\n",
       "    <tr>\n",
       "      <th>2</th>\n",
       "      <td>direct_selection</td>\n",
       "      <td>0.691165</td>\n",
       "    </tr>\n",
       "    <tr>\n",
       "      <th>5</th>\n",
       "      <td>shell</td>\n",
       "      <td>0.005209</td>\n",
       "    </tr>\n",
       "    <tr>\n",
       "      <th>3</th>\n",
       "      <td>hoar</td>\n",
       "      <td>0.002667</td>\n",
       "    </tr>\n",
       "  </tbody>\n",
       "</table>\n",
       "</div>"
      ],
      "text/plain": [
       "     name_sort_func      time\n",
       "0           bubbles  1.516002\n",
       "4           shaiker  1.059064\n",
       "2  direct_selection  0.691165\n",
       "5             shell  0.005209\n",
       "3              hoar  0.002667"
      ]
     },
     "execution_count": 30,
     "metadata": {},
     "output_type": "execute_result"
    }
   ],
   "source": [
    "group_df = stat_df.groupby('name_sort_func').agg({'time':['mean']}).reset_index()\n",
    "group_df.columns = group_df.columns.droplevel(1)\n",
    "group_df = group_df.sort_values('time', ascending=False)\n",
    "group_df.head()"
   ]
  },
  {
   "cell_type": "code",
   "execution_count": 32,
   "id": "8686458a",
   "metadata": {},
   "outputs": [
    {
     "data": {
      "image/png": "[encoded data removed]",
      "text/plain": [
       "<Figure size 640x480 with 1 Axes>"
      ]
     },
     "metadata": {},
     "output_type": "display_data"
    }
   ],
   "source": [
    "group_df.plot(x=\"name_sort_func\", y=\"time\", kind=\"bar\", fontsize=10)\n",
    "plt.show()"
   ]
  },
  {
   "cell_type": "code",
   "execution_count": null,
   "id": "9864d6cc",
   "metadata": {},
   "outputs": [],
   "source": []
  },
  {
   "cell_type": "code",
   "execution_count": null,
   "id": "930c73ec",
   "metadata": {},
   "outputs": [],
   "source": []
  },
  {
   "cell_type": "code",
   "execution_count": null,
   "id": "f6c0e8e6",
   "metadata": {},
   "outputs": [],
   "source": []
  },
  {
   "cell_type": "code",
   "execution_count": null,
   "id": "ee6ce33d",
   "metadata": {},
   "outputs": [],
   "source": []
  },
  {
   "cell_type": "code",
   "execution_count": null,
   "id": "0f989859",
   "metadata": {},
   "outputs": [],
   "source": []
  }
 ],
 "metadata": {
  "kernelspec": {
   "display_name": "Python 3 (ipykernel)",
   "language": "python",
   "name": "python3"
  },
  "language_info": {
   "codemirror_mode": {
    "name": "ipython",
    "version": 3
   },
   "file_extension": ".py",
   "mimetype": "text/x-python",
   "name": "python",
   "nbconvert_exporter": "python",
   "pygments_lexer": "ipython3",
   "version": "3.10.11"
  }
 },
 "nbformat": 4,
 "nbformat_minor": 5
}
