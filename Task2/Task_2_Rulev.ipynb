{
 "cells": [
  {
   "cell_type": "markdown",
   "id": "586b6f28",
   "metadata": {},
   "source": [
    "<b> Федеральное государственное бюджетное образовательное учреждение высшего образования <br>\n",
    "    «РОССИЙСКАЯ АКАДЕМИЯ НАРОДНОГО ХОЗЯЙСТВА И ГОСУДАРСТВЕННОЙ СЛУЖБЫ ПРИ ПРЕЗИДЕНТЕ РОССИЙСКОЙ ФЕДЕРАЦИИ»</b>\n",
    "\n",
    "<b> НИЖЕГОРОДСКИЙ ИНСТИТУТ УПРАВЛЕНИЯ – филиал РАНХиГС </b>\n",
    "\n",
    "Факультет управления<br>\n",
    "Кафедра Информатики и информационных технологий<br>\n",
    "Направление подготовки / специальность: 09.04.03 Прикладная информатика<br>\n",
    "Направленность (профиль) / специализация: Корпоративные информационные системы управления.<br>\n",
    "\n",
    "<b>Отчет по лабораторным работам</b>\n",
    "\n",
    "по дисциплине:    Структуры данных и их использование в программировани\n",
    "\t\n",
    "<b>АВТОР</b><br>\n",
    "Обучающийся(иеся) 2 курса группы ИК-722<br>\n",
    "заочной формы обучения<br>\n",
    "<b>Рулёв Владислав Дмитриевич</b><br>\n",
    "\n",
    "\n",
    "\n",
    "<b>РУКОВОДИТЕЛЬ</b> <br>\n",
    "Кандидат физико-математических наук<br>\n",
    "(ученая степень, ученое звание)<br>\n",
    "оценка ______ <br>\n",
    "«_____» __________________ 2024 г.<br>\n",
    "(дата защиты)<br>\n",
    "____________                          Орлов М.Л.<br>\n",
    "(подпись)                                       (фамилия, инициалы)\n",
    "\n",
    "\n",
    "\n",
    "Нижний Новгород, 2024г. \n"
   ]
  },
  {
   "cell_type": "markdown",
   "id": "637e5064",
   "metadata": {},
   "source": [
    "# Вариант 13"
   ]
  },
  {
   "cell_type": "markdown",
   "id": "94af45cd",
   "metadata": {},
   "source": [
    "## Задание 1:\n",
    "### Создайте одномерный массив. Выведите его содержимое на экран. Выполните реверс содержимого массива (переверните наоборот: первый элемент меняется местами с последним, второй с предпоследним и т.д.)."
   ]
  },
  {
   "cell_type": "code",
   "execution_count": 1,
   "id": "9d8f3f9a",
   "metadata": {},
   "outputs": [],
   "source": [
    "# Импорт библиотеки для рандомных чисел\n",
    "from random import randint"
   ]
  },
  {
   "cell_type": "code",
   "execution_count": 15,
   "id": "d92d1160",
   "metadata": {},
   "outputs": [
    {
     "name": "stdout",
     "output_type": "stream",
     "text": [
      "Исходный массив - [2, 9, 0, 0, 1, 6, 6, 8, 3, 1]\n",
      "Перевёрнутый массив - [1, 3, 8, 6, 6, 1, 0, 0, 9, 2]\n"
     ]
    }
   ],
   "source": [
    "len_arr = 10\n",
    "\n",
    "my_arr = [randint(0,9) for i in range(len_arr)]\n",
    "print(f\"Исходный массив - {my_arr}\")\n",
    "\n",
    "# реверс массива\n",
    "for i in range(0,len_arr // 2):\n",
    "    temp = my_arr[i]\n",
    "    my_arr[i] = my_arr[len_arr - i - 1]\n",
    "    my_arr[len_arr - i - 1] = temp\n",
    "    \n",
    "print(f\"Перевёрнутый массив - {my_arr}\")\n"
   ]
  },
  {
   "cell_type": "markdown",
   "id": "6837a406",
   "metadata": {},
   "source": [
    "## Задание 2:\n",
    "### Даны два массива X(10) и Y(8). Сформировать массив Z(18) из положительных элементов массивов X и Y. Если положительных элементов меньше 18, то оставшимся элементам массива Z присвоить значение +1."
   ]
  },
  {
   "cell_type": "code",
   "execution_count": 16,
   "id": "343ce647",
   "metadata": {},
   "outputs": [],
   "source": [
    "# Импорт библиотеки для рандомных чисел\n",
    "from random import randint"
   ]
  },
  {
   "cell_type": "code",
   "execution_count": 30,
   "id": "ecec9be5",
   "metadata": {},
   "outputs": [
    {
     "name": "stdout",
     "output_type": "stream",
     "text": [
      "Исходный массив X - [-7, -6, -10, 1, -10, 8, 2, -3, 3, -4]\n",
      "Исходный массив Y - [-2, 2, 8, 6, -5, -2, -9, -8]\n",
      "Массив Z - [1, 8, 2, 3, 2, 8, 6, '+1', '+1', '+1', '+1', '+1', '+1', '+1', '+1', '+1', '+1', '+1']\n"
     ]
    }
   ],
   "source": [
    "len_arr_X = 10\n",
    "len_arr_Y = 8\n",
    "len_arr_Z = 18\n",
    "\n",
    "arr_Z_counter = 0\n",
    "\n",
    "my_arr_X = [randint(-10,10) for i in range(len_arr_X)]\n",
    "my_arr_Y = [randint(-10,10) for i in range(len_arr_Y)]\n",
    "my_arr_Z = [0] * 18\n",
    "\n",
    "print(f\"Исходный массив X - {my_arr_X}\")\n",
    "print(f\"Исходный массив Y - {my_arr_Y}\")\n",
    "\n",
    "for i in range(len_arr_X):\n",
    "    if my_arr_X[i] >= 0:\n",
    "        my_arr_Z[arr_Z_counter] = my_arr_X[i];\n",
    "        arr_Z_counter += 1\n",
    "\n",
    "for i in range(len_arr_Y):\n",
    "    if my_arr_Y[i] >= 0:\n",
    "        my_arr_Z[arr_Z_counter] = my_arr_Y[i];\n",
    "        arr_Z_counter += 1\n",
    "\n",
    "if arr_Z_counter < 18:\n",
    "    for i in range(arr_Z_counter, len_arr_Z):\n",
    "        my_arr_Z[i] = \"+1\"\n",
    "        \n",
    "print(f\"Массив Z - {my_arr_Z}\")"
   ]
  },
  {
   "cell_type": "markdown",
   "id": "ca4d61f2",
   "metadata": {},
   "source": [
    "## Задание 3:\n",
    "### Задан массив Y(24). Определить количество элементов, которые при делении на 7 дают остаток 1, 2 или 5."
   ]
  },
  {
   "cell_type": "code",
   "execution_count": 46,
   "id": "ee9329a8",
   "metadata": {},
   "outputs": [
    {
     "name": "stdout",
     "output_type": "stream",
     "text": [
      "Исходный массив Y - [19, 11, 17, 4, 8, 15, 4, 10, 18, 10, 16, 10, 12, 8, 3, 5, 8, 15, 6, 15, 0, 5, 3, 9]\n",
      "Количество элементов, которые при делении на 7 дают остаток 1, 2 или 5 - 12\n"
     ]
    }
   ],
   "source": [
    "len_arr_Y = 24\n",
    "\n",
    "my_arr_Y = [randint(0,20) for i in range(len_arr_Y)]\n",
    "print(f\"Исходный массив Y - {my_arr_Y}\")\n",
    "\n",
    "count_element_7 = 0\n",
    "\n",
    "for i in range(len_arr_Y):\n",
    "# Подходящие цифры в нашем случае\n",
    "# 1 2 5\n",
    "# 8 9 12\n",
    "# 15 16 19\n",
    "    if (my_arr_Y[i] % 7 == 1) or (my_arr_Y[i] % 7 == 2) or (my_arr_Y[i] % 7 == 5):\n",
    "        count_element_7 += 1\n",
    "        temp_arr[i] = my_arr_Y[i]\n",
    "\n",
    "print(\"Количество элементов, которые при делении на 7 дают остаток 1, 2 или 5 -\", count_element_7)\n"
   ]
  },
  {
   "cell_type": "markdown",
   "id": "b278d415",
   "metadata": {},
   "source": [
    "## Задание 4:\n",
    "### Нечетные строки матрицы D(7,4) заменить на значение X."
   ]
  },
  {
   "cell_type": "code",
   "execution_count": 57,
   "id": "a96978f7",
   "metadata": {},
   "outputs": [
    {
     "data": {
      "text/plain": [
       "[[7, 9, 1, 1],\n",
       " [3, 5, 7, 8],\n",
       " [3, 7, 1, 0],\n",
       " [9, 0, 5, 9],\n",
       " [5, 6, 4, 6],\n",
       " [3, 1, 2, 6],\n",
       " [6, 0, 8, 3]]"
      ]
     },
     "execution_count": 57,
     "metadata": {},
     "output_type": "execute_result"
    }
   ],
   "source": [
    "my_arr_D = [0] * 7 \n",
    "for i in range(7):\n",
    "    my_arr_D[i] = [randint(0,9) for i in range(4)] \n",
    "\n",
    "my_arr_D"
   ]
  },
  {
   "cell_type": "code",
   "execution_count": 58,
   "id": "5f843991",
   "metadata": {},
   "outputs": [
    {
     "data": {
      "text/plain": [
       "[[7, 9, 1, 1],\n",
       " ['X', 'X', 'X', 'X'],\n",
       " [3, 7, 1, 0],\n",
       " ['X', 'X', 'X', 'X'],\n",
       " [5, 6, 4, 6],\n",
       " ['X', 'X', 'X', 'X'],\n",
       " [6, 0, 8, 3]]"
      ]
     },
     "execution_count": 58,
     "metadata": {},
     "output_type": "execute_result"
    }
   ],
   "source": [
    "X = \"X\"\n",
    "\n",
    "for i in range(7):\n",
    "    if i % 2 == 1:\n",
    "        for j in range(4):\n",
    "            my_arr_D[i][j] = X\n",
    "my_arr_D"
   ]
  },
  {
   "cell_type": "markdown",
   "id": "7547fe68",
   "metadata": {},
   "source": [
    "## Задание 5:\n",
    "### В матрице C(6,6) найти произведение P1 и P2 не равных нулю элементов, расположенных выше и ниже главной диагонали."
   ]
  },
  {
   "cell_type": "code",
   "execution_count": 62,
   "id": "5a560f36",
   "metadata": {},
   "outputs": [
    {
     "data": {
      "text/plain": [
       "[[8, 4, 8, 8, 1, 0],\n",
       " [3, 8, 6, 7, 3, 5],\n",
       " [0, 4, 4, 9, 1, 4],\n",
       " [5, 6, 0, 6, 7, 0],\n",
       " [6, 1, 0, 5, 8, 6],\n",
       " [3, 4, 4, 7, 2, 6]]"
      ]
     },
     "execution_count": 62,
     "metadata": {},
     "output_type": "execute_result"
    }
   ],
   "source": [
    "my_arr_C = [0] * 6 \n",
    "for i in range(6):\n",
    "    my_arr_C[i] = [randint(0,9) for i in range(6)]\n",
    "\n",
    "my_arr_C    "
   ]
  },
  {
   "cell_type": "code",
   "execution_count": 82,
   "id": "2ded8c6a",
   "metadata": {},
   "outputs": [
    {
     "name": "stdout",
     "output_type": "stream",
     "text": [
      "Выбираем элементы p1 и p2\n",
      "p1[2][3] = 9\n",
      "p2[5][2] = 4\n",
      "p1 * p2 = 36\n"
     ]
    }
   ],
   "source": [
    "# т.к. из условия задачи не понятно что представляют из себя элементы p1 и p2 они будут взяты случайным образом\n",
    "p1 = p2 = 0\n",
    "\n",
    "print(\"Выбираем элементы p1 и p2\")\n",
    "while p1 == 0 or p2 == 0:\n",
    "    if p1 == 0:\n",
    "        p1_i = randint(0,4)\n",
    "        p1_j = randint(p1_i+1,5)\n",
    "        p1 = my_arr_C[p1_i][p1_j]\n",
    "    \n",
    "    if p2 == 0:\n",
    "        p2_i = randint(1,5)\n",
    "        p2_j = randint(0,p2_i-1)\n",
    "        p2 = my_arr_C[p2_i][p2_j]\n",
    "\n",
    "        \n",
    "print(\"p1[\" + str(p1_i) + \"][\" + str(p1_j) + \"] = \" + str(p1))\n",
    "print(\"p2[\" + str(p2_i) + \"][\" + str(p2_j) + \"] = \" + str(p2))\n",
    "print(\"p1 * p2 =\",p1*p2)"
   ]
  },
  {
   "cell_type": "markdown",
   "id": "5b96cbe0",
   "metadata": {},
   "source": [
    "## Задание 6:\n",
    "### Создайте двумерный массив А(N,M). Значения N и M вводит пользователь с клавиатуры. Элементы массива могут принимать 2 значения – 0 и 1. Количество 1 (K) определяет пользователь. Эти 1 распределяются по массиву случайнам образом\n",
    "### На экране вывести картинку массива и его зеркальное отображение по всем направлениям"
   ]
  },
  {
   "cell_type": "code",
   "execution_count": 104,
   "id": "e165a82c",
   "metadata": {},
   "outputs": [],
   "source": [
    "# Создаём матрицу\n",
    "def create_matrix(n,m):\n",
    "    A = [0] * n\n",
    "    for i in range(n):\n",
    "        A[i] = [0] * m\n",
    "    \n",
    "    return A\n",
    "\n",
    "# Кладём в полученную матрицу определённое кол-во едениц\n",
    "def push_matrix_1(matrix, n, m, k):\n",
    "    while k > 0:\n",
    "        i = randint(0, n-1)\n",
    "        j = randint(0, m-1)\n",
    "        if matrix[i][j] != 1:\n",
    "            matrix[i][j] = 1\n",
    "            k -= 1\n",
    "\n",
    "            \n",
    "            \n",
    "# Вывод на экран матрицы и её зеркального отображения по всем направлениям\n",
    "# matrix - сама матрица show_line - показ полосок\n",
    "def printable(matrix, show_line):\n",
    "    # Вывод сверху вниз (стандарт)          \n",
    "    for row in matrix:\n",
    "        # Обычный вывод строки         \n",
    "        for el in row:\n",
    "            if el == 0:\n",
    "                print(' ', end=' ')\n",
    "            if el == 1:\n",
    "                print('*', end=' ')\n",
    "        # Разделитель\n",
    "        if show_line:\n",
    "            print(' | ', end='')\n",
    "        # Зеркальный вывод строки       \n",
    "        for el in row[::-1]:\n",
    "            if el == 0:\n",
    "                print(' ', end=' ')\n",
    "            if el == 1:\n",
    "                print('*', end=' ')\n",
    "        \n",
    "        print()\n",
    "    # Разделитель    \n",
    "    if show_line:    \n",
    "        print(\"-\"*len(row)*4)\n",
    "        \n",
    "    # Вывод снизу вверх (зеркальный)    \n",
    "    for row in matrix[::-1]:\n",
    "        for el in row:\n",
    "            if el == 0:\n",
    "                print(' ', end=' ')\n",
    "            if el == 1:\n",
    "                print('*', end=' ')\n",
    "                \n",
    "        if show_line:\n",
    "            print(' | ', end='')\n",
    "        \n",
    "        for el in row[::-1]:\n",
    "            if el == 0:\n",
    "                print(' ', end=' ')\n",
    "            if el == 1:\n",
    "                print('*', end=' ')\n",
    "        print()"
   ]
  },
  {
   "cell_type": "code",
   "execution_count": 106,
   "id": "8d588dcf",
   "metadata": {},
   "outputs": [
    {
     "data": {
      "text/plain": [
       "[[1, 0, 0, 0, 0, 0, 0, 0],\n",
       " [1, 1, 0, 0, 1, 0, 0, 1],\n",
       " [1, 0, 1, 1, 1, 0, 0, 1],\n",
       " [0, 1, 1, 1, 1, 0, 1, 0]]"
      ]
     },
     "execution_count": 106,
     "metadata": {},
     "output_type": "execute_result"
    }
   ],
   "source": [
    "# Тест\n",
    "BB = create_matrix(4, 8)\n",
    "push_matrix_1(BB, 4, 8, 15)\n",
    "BB"
   ]
  },
  {
   "cell_type": "code",
   "execution_count": 112,
   "id": "703b83e5",
   "metadata": {},
   "outputs": [
    {
     "name": "stdout",
     "output_type": "stream",
     "text": [
      "*                |               * \n",
      "* *     *     *  | *     *     * * \n",
      "*   * * *     *  | *     * * *   * \n",
      "  * * * *   *    |   *   * * * *   \n",
      "--------------------------------\n",
      "  * * * *   *    |   *   * * * *   \n",
      "*   * * *     *  | *     * * *   * \n",
      "* *     *     *  | *     *     * * \n",
      "*                |               * \n"
     ]
    }
   ],
   "source": [
    "printable(BB, True)"
   ]
  },
  {
   "cell_type": "code",
   "execution_count": 113,
   "id": "555defa7",
   "metadata": {},
   "outputs": [
    {
     "name": "stdout",
     "output_type": "stream",
     "text": [
      "Введите количество строк и количество столбцов в матрице:\n",
      "7\n",
      "4\n",
      "Введите количество единиц в матрице:\n",
      "18\n",
      "* * * * * * * * \n",
      "*     * *     * \n",
      "* * * * * * * * \n",
      "*   * * * *   * \n",
      "*     * *     * \n",
      "  * *     * *   \n",
      "    *     *     \n",
      "    *     *     \n",
      "  * *     * *   \n",
      "*     * *     * \n",
      "*   * * * *   * \n",
      "* * * * * * * * \n",
      "*     * *     * \n",
      "* * * * * * * * \n"
     ]
    }
   ],
   "source": [
    "# Итог\n",
    "print(\"Введите количество строк и количество столбцов в матрице:\")\n",
    "N = int(input())\n",
    "M = int(input())\n",
    "A = create_matrix(N, M)\n",
    "print(\"Введите количество единиц в матрице:\")\n",
    "K = int(input())\n",
    "push_matrix_1(A, N, M, K)\n",
    "\n",
    "printable(A, False)"
   ]
  },
  {
   "cell_type": "code",
   "execution_count": 115,
   "id": "cc0cb63e",
   "metadata": {},
   "outputs": [
    {
     "name": "stdout",
     "output_type": "stream",
     "text": [
      "* * * *  | * * * * \n",
      "*     *  | *     * \n",
      "* * * *  | * * * * \n",
      "*   * *  | * *   * \n",
      "*     *  | *     * \n",
      "  * *    |   * *   \n",
      "    *    |   *     \n",
      "----------------\n",
      "    *    |   *     \n",
      "  * *    |   * *   \n",
      "*     *  | *     * \n",
      "*   * *  | * *   * \n",
      "* * * *  | * * * * \n",
      "*     *  | *     * \n",
      "* * * *  | * * * * \n"
     ]
    }
   ],
   "source": [
    "printable(A, True)"
   ]
  },
  {
   "cell_type": "markdown",
   "id": "3be2b0e4",
   "metadata": {},
   "source": [
    "## Задание 7:\n",
    "### Создайте одномерный массив, который содержит полный набор возможных значений типа UInt16, кроме одного. Определите, какого числа не хватает."
   ]
  },
  {
   "cell_type": "code",
   "execution_count": 120,
   "id": "e3025d78",
   "metadata": {},
   "outputs": [
    {
     "name": "stdout",
     "output_type": "stream",
     "text": [
      "65536\n",
      "65535\n",
      "Удалённый элемент - [36526]\n"
     ]
    }
   ],
   "source": [
    "# Создаём лист\n",
    "number_list = list(range(65536))\n",
    "\n",
    "# Выводим длину текущего массива\n",
    "print(len(number_list))\n",
    "\n",
    "# Удаляем случайный элемент\n",
    "index_for_delete = randint(0, 65535)\n",
    "number_list.pop(index_for_delete)\n",
    "\n",
    "# Повторно выводим длину, чтобы проверить, что один элемент был удалён \n",
    "print(len(number_list))\n",
    "\n",
    "delete_element = list(set(range(65536)) - set(number_list))\n",
    "print(\"Удалённый элемент -\", delete_element)"
   ]
  },
  {
   "cell_type": "code",
   "execution_count": null,
   "id": "e75ba9a7",
   "metadata": {},
   "outputs": [],
   "source": []
  }
 ],
 "metadata": {
  "kernelspec": {
   "display_name": "Python 3 (ipykernel)",
   "language": "python",
   "name": "python3"
  },
  "language_info": {
   "codemirror_mode": {
    "name": "ipython",
    "version": 3
   },
   "file_extension": ".py",
   "mimetype": "text/x-python",
   "name": "python",
   "nbconvert_exporter": "python",
   "pygments_lexer": "ipython3",
   "version": "3.10.11"
  }
 },
 "nbformat": 4,
 "nbformat_minor": 5
}
