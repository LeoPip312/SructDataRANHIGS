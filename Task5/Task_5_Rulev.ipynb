{
 "cells": [
  {
   "cell_type": "markdown",
   "id": "71ae3bac",
   "metadata": {},
   "source": [
    "<b> Федеральное государственное бюджетное образовательное учреждение высшего образования <br>\n",
    "    «РОССИЙСКАЯ АКАДЕМИЯ НАРОДНОГО ХОЗЯЙСТВА И ГОСУДАРСТВЕННОЙ СЛУЖБЫ ПРИ ПРЕЗИДЕНТЕ РОССИЙСКОЙ ФЕДЕРАЦИИ»</b>\n",
    "\n",
    "<b> НИЖЕГОРОДСКИЙ ИНСТИТУТ УПРАВЛЕНИЯ – филиал РАНХиГС </b>\n",
    "\n",
    "Факультет управления<br>\n",
    "Кафедра Информатики и информационных технологий<br>\n",
    "Направление подготовки / специальность: 09.04.03 Прикладная информатика<br>\n",
    "Направленность (профиль) / специализация: Корпоративные информационные системы управления.<br>\n",
    "\n",
    "<b>Отчет по лабораторным работам</b>\n",
    "\n",
    "по дисциплине:    Структуры данных и их использование в программировани\n",
    "\t\n",
    "<b>АВТОР</b><br>\n",
    "Обучающийся(иеся) 2 курса группы ИК-722<br>\n",
    "заочной формы обучения<br>\n",
    "<b>Рулёв Владислав Дмитриевич</b><br>\n",
    "\n",
    "\n",
    "\n",
    "<b>РУКОВОДИТЕЛЬ</b> <br>\n",
    "Кандидат физико-математических наук<br>\n",
    "(ученая степень, ученое звание)<br>\n",
    "оценка ______ <br>\n",
    "«_____» __________________ 2024 г.<br>\n",
    "(дата защиты)<br>\n",
    "____________                          Орлов М.Л.<br>\n",
    "(подпись)                                       (фамилия, инициалы)\n",
    "\n",
    "\n",
    "\n",
    "Нижний Новгород, 2024г. \n"
   ]
  },
  {
   "cell_type": "markdown",
   "id": "39c201cf",
   "metadata": {},
   "source": [
    "# Вариант 13"
   ]
  },
  {
   "cell_type": "markdown",
   "id": "4a4e22e8",
   "metadata": {},
   "source": [
    "## Задание 1:\n",
    "### Написать программу на языке высокого уровня (С++, C#, Java), реализующую очередь на базе массива. "
   ]
  },
  {
   "cell_type": "code",
   "execution_count": 1,
   "id": "3d983c68",
   "metadata": {},
   "outputs": [],
   "source": [
    "from random import randint"
   ]
  },
  {
   "cell_type": "code",
   "execution_count": 140,
   "id": "72a51714",
   "metadata": {},
   "outputs": [],
   "source": [
    "class Queue:\n",
    "    def __init__(self, max_size=None):\n",
    "        self.queue = [''] * max_size\n",
    "        self.size = max_size\n",
    "        self.tail = 0\n",
    "        for i in range(self.size):\n",
    "            self.queue[i] = None\n",
    "        \n",
    "        \n",
    "    def clear(self):\n",
    "        for i in range(self.size):\n",
    "            self.queue[i] = None\n",
    "        self.tail = 0\n",
    "        \n",
    "    def is_empty(self):\n",
    "        return self.queue[0] == None\n",
    "    \n",
    "    def is_full(self):\n",
    "        if self.size is None:\n",
    "            return False\n",
    "        else:\n",
    "            return self.tail == self.size  \n",
    "    \n",
    "    def push(self, item):\n",
    "        if self.is_full() == False:\n",
    "            self.queue[self.tail] = item\n",
    "            self.tail += 1\n",
    "        else:\n",
    "            raise Exception(\"Очередь переполнена\")\n",
    "    \n",
    "    def pop(self):\n",
    "        if self.is_empty():\n",
    "            return None\n",
    "        pop_item = self.queue[0]\n",
    "        \n",
    "        for i in range(self.tail - 1):\n",
    "            self.queue[i] = self.queue[i+1]\n",
    "        \n",
    "        self.tail -= 1\n",
    "        self.queue[self.tail] = None\n",
    "        \n",
    "        return pop_item"
   ]
  },
  {
   "cell_type": "code",
   "execution_count": 141,
   "id": "2ff87b65",
   "metadata": {},
   "outputs": [],
   "source": [
    "qq = Queue(3)"
   ]
  },
  {
   "cell_type": "code",
   "execution_count": 150,
   "id": "090f9e5d",
   "metadata": {},
   "outputs": [
    {
     "data": {
      "text/plain": [
       "[None, None, None]"
      ]
     },
     "execution_count": 150,
     "metadata": {},
     "output_type": "execute_result"
    }
   ],
   "source": [
    "qq.queue"
   ]
  },
  {
   "cell_type": "code",
   "execution_count": 151,
   "id": "3b7b93ac",
   "metadata": {},
   "outputs": [],
   "source": [
    "qq.push(2)\n",
    "qq.push(3)\n",
    "qq.push(4)"
   ]
  },
  {
   "cell_type": "code",
   "execution_count": 148,
   "id": "64283cae",
   "metadata": {},
   "outputs": [],
   "source": [
    "qq.pop()"
   ]
  },
  {
   "cell_type": "code",
   "execution_count": 93,
   "id": "79a17ac1",
   "metadata": {},
   "outputs": [
    {
     "data": {
      "text/plain": [
       "False"
      ]
     },
     "execution_count": 93,
     "metadata": {},
     "output_type": "execute_result"
    }
   ],
   "source": [
    "qq.is_empty()"
   ]
  },
  {
   "cell_type": "code",
   "execution_count": 75,
   "id": "3007df8e",
   "metadata": {},
   "outputs": [
    {
     "data": {
      "text/plain": [
       "False"
      ]
     },
     "execution_count": 75,
     "metadata": {},
     "output_type": "execute_result"
    }
   ],
   "source": [
    "qq.is_full()"
   ]
  },
  {
   "cell_type": "code",
   "execution_count": 97,
   "id": "c64eb8ea",
   "metadata": {},
   "outputs": [],
   "source": [
    "qq.clear()"
   ]
  },
  {
   "cell_type": "code",
   "execution_count": 149,
   "id": "0ecd98cc",
   "metadata": {},
   "outputs": [
    {
     "data": {
      "text/plain": [
       "0"
      ]
     },
     "execution_count": 149,
     "metadata": {},
     "output_type": "execute_result"
    }
   ],
   "source": [
    "qq.tail"
   ]
  },
  {
   "cell_type": "code",
   "execution_count": null,
   "id": "032c1992",
   "metadata": {},
   "outputs": [],
   "source": []
  }
 ],
 "metadata": {
  "kernelspec": {
   "display_name": "Python 3 (ipykernel)",
   "language": "python",
   "name": "python3"
  },
  "language_info": {
   "codemirror_mode": {
    "name": "ipython",
    "version": 3
   },
   "file_extension": ".py",
   "mimetype": "text/x-python",
   "name": "python",
   "nbconvert_exporter": "python",
   "pygments_lexer": "ipython3",
   "version": "3.10.11"
  }
 },
 "nbformat": 4,
 "nbformat_minor": 5
}
