{
 "cells": [
  {
   "cell_type": "markdown",
   "id": "ac7d3a9a",
   "metadata": {},
   "source": [
    "<b> Федеральное государственное бюджетное образовательное учреждение высшего образования <br>\n",
    "    «РОССИЙСКАЯ АКАДЕМИЯ НАРОДНОГО ХОЗЯЙСТВА И ГОСУДАРСТВЕННОЙ СЛУЖБЫ ПРИ ПРЕЗИДЕНТЕ РОССИЙСКОЙ ФЕДЕРАЦИИ»</b>\n",
    "\n",
    "<b> НИЖЕГОРОДСКИЙ ИНСТИТУТ УПРАВЛЕНИЯ – филиал РАНХиГС </b>\n",
    "\n",
    "Факультет управления<br>\n",
    "Кафедра Информатики и информационных технологий<br>\n",
    "Направление подготовки / специальность: 09.04.03 Прикладная информатика<br>\n",
    "Направленность (профиль) / специализация: Корпоративные информационные системы управления.<br>\n",
    "\n",
    "<b>Отчет по лабораторным работам</b>\n",
    "\n",
    "по дисциплине:    Структуры данных и их использование в программировани\n",
    "\t\n",
    "<b>АВТОР</b><br>\n",
    "Обучающийся(иеся) 2 курса группы ИК-722<br>\n",
    "заочной формы обучения<br>\n",
    "<b>Рулёв Владислав Дмитриевич</b><br>\n",
    "\n",
    "\n",
    "\n",
    "<b>РУКОВОДИТЕЛЬ</b> <br>\n",
    "Кандидат физико-математических наук<br>\n",
    "(ученая степень, ученое звание)<br>\n",
    "оценка ______ <br>\n",
    "«_____» __________________ 2024 г.<br>\n",
    "(дата защиты)<br>\n",
    "____________                          Орлов М.Л.<br>\n",
    "(подпись)                                       (фамилия, инициалы)\n",
    "\n",
    "\n",
    "\n",
    "Нижний Новгород, 2024г. \n"
   ]
  },
  {
   "cell_type": "markdown",
   "id": "c6a698da",
   "metadata": {},
   "source": [
    "## Задание 1:\n",
    "### Написать программу на языке высокого уровня (С++, C#, Java), реализующую поиск заданного элемента в неупорядоченном массиве."
   ]
  },
  {
   "cell_type": "code",
   "execution_count": 1,
   "id": "fd3b0926",
   "metadata": {},
   "outputs": [],
   "source": [
    "from random import randint"
   ]
  },
  {
   "cell_type": "code",
   "execution_count": 9,
   "id": "bec26272",
   "metadata": {},
   "outputs": [
    {
     "name": "stdout",
     "output_type": "stream",
     "text": [
      "Сгенерированный массив [17, 52, 8, 99, 41, 39, 75, 10, 78, 25]\n",
      "Введите элемент для поиска\n",
      "99\n",
      "Позиция найденного элемента: 3\n"
     ]
    }
   ],
   "source": [
    "arr_size = 10\n",
    "arr = [randint(0, 100) for i in range(arr_size)]\n",
    "\n",
    "print(f\"Сгенерированный массив {arr}\")\n",
    "print(\"Введите элемент для поиска\")\n",
    "select_element = int(input())\n",
    "position_element = None\n",
    "\n",
    "for i in range(len(arr)):\n",
    "    if arr[i] == select_element:\n",
    "        position_element = i\n",
    "        break\n",
    "\n",
    "if position_element:\n",
    "    print(f\"Позиция найденного элемента: {position_element}\")\n",
    "else:\n",
    "    print(\"Элемент не был найден\")"
   ]
  },
  {
   "cell_type": "markdown",
   "id": "3df109ff",
   "metadata": {},
   "source": [
    "## Задание 2:\n",
    "### Написать программу на языке высокого уровня (С++, C#, Java), реализующую поиск подстроки в строке."
   ]
  },
  {
   "cell_type": "code",
   "execution_count": 38,
   "id": "7bd92ef5",
   "metadata": {},
   "outputs": [
    {
     "name": "stdout",
     "output_type": "stream",
     "text": [
      "Введите строку: \n",
      "От топота копыт пыль по полю летит\n",
      "Введите подстроку для поиска: \n",
      "от\n"
     ]
    }
   ],
   "source": [
    "print(\"Введите строку: \")\n",
    "string = str(input())\n",
    "print(\"Введите подстроку для поиска: \")\n",
    "sub_string = str(input())"
   ]
  },
  {
   "cell_type": "code",
   "execution_count": 39,
   "id": "5a343c9c",
   "metadata": {},
   "outputs": [
    {
     "name": "stdout",
     "output_type": "stream",
     "text": [
      "Подстрока 'от' есть в строке 'От топота копыт пыль по полю летит'\n",
      "Начало в 6 символе\n"
     ]
    }
   ],
   "source": [
    "# Поиск проводится С УЧЁТОМ РЕГИСТРА\n",
    "start_position = 0\n",
    "str_pos = 0\n",
    "save_position = None\n",
    "\n",
    "\n",
    "for char in string:\n",
    "    try:\n",
    "        if char == sub_string[start_position]:\n",
    "\n",
    "            if save_position == None:\n",
    "                save_position = str_pos\n",
    "\n",
    "            start_position += 1   \n",
    "        else:\n",
    "            save_position = None\n",
    "            start_position = 0\n",
    "        \n",
    "        str_pos += 1\n",
    "        \n",
    "    except IndexError:\n",
    "        print(f\"Подстрока '{sub_string}' есть в строке '{string}'\\nНачало в {save_position} символе\")\n",
    "        break\n",
    "\n",
    "if save_position == None:\n",
    "    print(\"Не удалось найти подстроку\")"
   ]
  },
  {
   "cell_type": "code",
   "execution_count": null,
   "id": "fcb5f69d",
   "metadata": {},
   "outputs": [],
   "source": []
  }
 ],
 "metadata": {
  "kernelspec": {
   "display_name": "Python 3 (ipykernel)",
   "language": "python",
   "name": "python3"
  },
  "language_info": {
   "codemirror_mode": {
    "name": "ipython",
    "version": 3
   },
   "file_extension": ".py",
   "mimetype": "text/x-python",
   "name": "python",
   "nbconvert_exporter": "python",
   "pygments_lexer": "ipython3",
   "version": "3.10.11"
  }
 },
 "nbformat": 4,
 "nbformat_minor": 5
}
